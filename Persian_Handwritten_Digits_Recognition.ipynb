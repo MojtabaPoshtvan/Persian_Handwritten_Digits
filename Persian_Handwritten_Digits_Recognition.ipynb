{
  "cells": [
    {
      "cell_type": "markdown",
      "source": [
        "### Modules"
      ],
      "metadata": {
        "id": "CGr6pyOAW67W"
      }
    },
    {
      "cell_type": "code",
      "execution_count": null,
      "metadata": {
        "id": "_xjzKDHr2Hq2"
      },
      "outputs": [],
      "source": [
        "from sklearn.neighbors import KNeighborsClassifier\n",
        "from tensorflow.keras.utils import to_categorical\n",
        "from HodaDatasetReader import read_hoda_dataset\n",
        "from sklearn.linear_model import BayesianRidge\n",
        "from tensorflow.keras.optimizers import Adam\n",
        "from sklearn.model_selection import KFold\n",
        "import tensorflow.keras.metrics as tkm\n",
        "import tensorflow.keras.layers as tkl\n",
        "import sklearn.metrics as skmet\n",
        "import matplotlib.pyplot as plt\n",
        "from sklearn.svm import SVC\n",
        "import tensorflow as tf\n",
        "import numpy as np\n",
        "import time\n",
        "import cv2\n",
        "import os"
      ]
    },
    {
      "cell_type": "markdown",
      "metadata": {
        "id": "rJxr5lkbGp4_"
      },
      "source": [
        "### Dataset Preparation"
      ]
    },
    {
      "cell_type": "code",
      "execution_count": null,
      "metadata": {
        "id": "78ZoXeKV2OXU"
      },
      "outputs": [],
      "source": [
        "X, Y = read_hoda_dataset(dataset_path='/content/Train 60000.cdb',\n",
        "                                     images_height=28,\n",
        "                                     images_width=28,\n",
        "                                     one_hot=False,\n",
        "                                     reshape=False)"
      ]
    },
    {
      "cell_type": "code",
      "source": [
        "def dataset(X, Y):\n",
        "  x_train, y_train = X[12000:], Y[12000:]\n",
        "  x_test, y_test = X[:12000], Y[:12000]\n",
        "  y_train = to_categorical(y_train)\n",
        "  y_test = to_categorical(y_test)\n",
        "  return x_train, x_test, y_train, y_test"
      ],
      "metadata": {
        "id": "a4nDfSEfOoJP"
      },
      "execution_count": null,
      "outputs": []
    },
    {
      "cell_type": "markdown",
      "metadata": {
        "id": "Pk3_YM4ZOSDo"
      },
      "source": [
        "## Visualization"
      ]
    },
    {
      "cell_type": "code",
      "execution_count": null,
      "metadata": {
        "id": "_gOOLx0B3kba",
        "colab": {
          "base_uri": "https://localhost:8080/",
          "height": 1000
        },
        "outputId": "8522128d-02d0-49da-8cd6-695fd5927682"
      },
      "outputs": [
        {
          "output_type": "display_data",
          "data": {
            "text/plain": [
              "<Figure size 1500x1500 with 9 Axes>"
            ],
            "image/png": "[encoded data removed]"
          },
          "metadata": {}
        }
      ],
      "source": [
        "plt.figure(figsize=(15,15))\n",
        "for i in range (9):\n",
        "  ax = plt.subplot(3, 3, i+1)\n",
        "  plt.imshow(X[i], cmap='gray')\n",
        "  plt.title(Y[i])\n",
        "  plt.axis('off')"
      ]
    },
    {
      "cell_type": "markdown",
      "metadata": {
        "id": "1KVgBvOsP8w_"
      },
      "source": [
        "## Model"
      ]
    },
    {
      "cell_type": "code",
      "execution_count": null,
      "metadata": {
        "id": "N4DvFCL9VQ9R"
      },
      "outputs": [],
      "source": [
        "WIDTH = 28\n",
        "HEIGHT = 28\n",
        "n_channels = 1"
      ]
    },
    {
      "cell_type": "code",
      "execution_count": null,
      "metadata": {
        "id": "o5io9VvFP4q1"
      },
      "outputs": [],
      "source": [
        "input_size = (WIDTH, HEIGHT, n_channels)\n",
        "\n",
        "\n",
        "input_img = tf.keras.Input(input_size, name = 'image')\n",
        "conv0 = tkl.Conv2D(filters = 16, kernel_size = (3,3), padding = 'same', kernel_initializer = 'he_normal')(input_img)\n",
        "conv1 = tkl.Activation('relu')(conv0)\n",
        "\n",
        "\n",
        "pool0 = tkl.MaxPooling2D((2,2))(conv1)\n",
        "conv2 = tkl.Dropout(0.1)(pool0)\n",
        "\n",
        "conv3 = tkl.Conv2D(filters = 32, kernel_size = (3,3), padding = 'same', kernel_initializer = 'he_normal')(conv2)\n",
        "conv4 = tkl.Activation('relu')(conv3)\n",
        "\n",
        "pool1 = tkl.MaxPooling2D((2,2))(conv4)\n",
        "conv5 = tkl.Dropout(0.1)(pool1)\n",
        "\n",
        "flat = tkl.Flatten()(conv5)\n",
        "dense1 = tkl.Dense(64, activation='relu')(flat)\n",
        "output = tkl.Dense(10, activation = 'softmax')(dense1)\n",
        "\n",
        "model = tf.keras.Model(inputs = [input_img], outputs = [output])\n"
      ]
    },
    {
      "cell_type": "code",
      "execution_count": null,
      "metadata": {
        "id": "lm_i3syhgt3y",
        "colab": {
          "base_uri": "https://localhost:8080/"
        },
        "outputId": "1363e8fe-de7d-447c-8312-b6d291e9fc68"
      },
      "outputs": [
        {
          "output_type": "stream",
          "name": "stdout",
          "text": [
            "Model: \"model\"\n",
            "_________________________________________________________________\n",
            " Layer (type)                Output Shape              Param #   \n",
            "=================================================================\n",
            " image (InputLayer)          [(None, 28, 28, 1)]       0         \n",
            "                                                                 \n",
            " conv2d (Conv2D)             (None, 28, 28, 16)        160       \n",
            "                                                                 \n",
            " activation (Activation)     (None, 28, 28, 16)        0         \n",
            "                                                                 \n",
            " max_pooling2d (MaxPooling2D  (None, 14, 14, 16)       0         \n",
            " )                                                               \n",
            "                                                                 \n",
            " dropout (Dropout)           (None, 14, 14, 16)        0         \n",
            "                                                                 \n",
            " conv2d_1 (Conv2D)           (None, 14, 14, 32)        4640      \n",
            "                                                                 \n",
            " activation_1 (Activation)   (None, 14, 14, 32)        0         \n",
            "                                                                 \n",
            " max_pooling2d_1 (MaxPooling  (None, 7, 7, 32)         0         \n",
            " 2D)                                                             \n",
            "                                                                 \n",
            " dropout_1 (Dropout)         (None, 7, 7, 32)          0         \n",
            "                                                                 \n",
            " flatten (Flatten)           (None, 1568)              0         \n",
            "                                                                 \n",
            " dense (Dense)               (None, 64)                100416    \n",
            "                                                                 \n",
            " dense_1 (Dense)             (None, 10)                650       \n",
            "                                                                 \n",
            "=================================================================\n",
            "Total params: 105,866\n",
            "Trainable params: 105,866\n",
            "Non-trainable params: 0\n",
            "_________________________________________________________________\n"
          ]
        }
      ],
      "source": [
        "model.summary()"
      ]
    },
    {
      "cell_type": "code",
      "execution_count": null,
      "metadata": {
        "id": "vz7p3XdhgwG8"
      },
      "outputs": [],
      "source": [
        "adam = Adam(learning_rate = 0.003)\n",
        "model.compile(optimizer = adam, loss='categorical_crossentropy', metrics = [tkm.Recall(), tkm.Precision(), 'accuracy'])"
      ]
    },
    {
      "cell_type": "markdown",
      "source": [
        "## Holdout"
      ],
      "metadata": {
        "id": "lZuCp-GdT9XM"
      }
    },
    {
      "cell_type": "code",
      "source": [
        "x_train, x_test, y_train, y_test = dataset(X, Y)\n",
        "print(f'x_train shape is: {x_train.shape}')\n",
        "print(f'x_test shape is: {x_test.shape}')\n",
        "print(f'y_train shape is: {y_train.shape}')"
      ],
      "metadata": {
        "id": "-vmtFsVFT70a",
        "colab": {
          "base_uri": "https://localhost:8080/"
        },
        "outputId": "7930a195-dd3c-45a5-ad57-fe3b3ef577b9"
      },
      "execution_count": null,
      "outputs": [
        {
          "output_type": "stream",
          "name": "stdout",
          "text": [
            "x_train shape is: (48000, 28, 28, 1)\n",
            "x_test shape is: (12000, 28, 28, 1)\n",
            "y_train shape is: (48000, 10)\n"
          ]
        }
      ]
    },
    {
      "cell_type": "code",
      "execution_count": null,
      "metadata": {
        "id": "OgWoQ9iokwhz",
        "colab": {
          "base_uri": "https://localhost:8080/"
        },
        "outputId": "16632275-84a4-4c2c-db94-d4d60a82b5d6"
      },
      "outputs": [
        {
          "output_type": "stream",
          "name": "stdout",
          "text": [
            "Epoch 1/10\n",
            "1500/1500 [==============================] - 19s 5ms/step - loss: 0.0868 - recall: 0.9709 - precision: 0.9794 - accuracy: 0.9741\n",
            "Epoch 2/10\n",
            "1500/1500 [==============================] - 7s 5ms/step - loss: 0.0300 - recall: 0.9902 - precision: 0.9917 - accuracy: 0.9907\n",
            "Epoch 3/10\n",
            "1500/1500 [==============================] - 8s 5ms/step - loss: 0.0225 - recall: 0.9931 - precision: 0.9937 - accuracy: 0.9933\n",
            "Epoch 4/10\n",
            "1500/1500 [==============================] - 7s 5ms/step - loss: 0.0167 - recall: 0.9946 - precision: 0.9951 - accuracy: 0.9950\n",
            "Epoch 5/10\n",
            "1500/1500 [==============================] - 6s 4ms/step - loss: 0.0155 - recall: 0.9952 - precision: 0.9956 - accuracy: 0.9953\n",
            "Epoch 6/10\n",
            "1500/1500 [==============================] - 7s 5ms/step - loss: 0.0132 - recall: 0.9959 - precision: 0.9964 - accuracy: 0.9961\n",
            "Epoch 7/10\n",
            "1500/1500 [==============================] - 6s 4ms/step - loss: 0.0116 - recall: 0.9965 - precision: 0.9969 - accuracy: 0.9966\n",
            "Epoch 8/10\n",
            "1500/1500 [==============================] - 7s 4ms/step - loss: 0.0115 - recall: 0.9963 - precision: 0.9967 - accuracy: 0.9965\n",
            "Epoch 9/10\n",
            "1500/1500 [==============================] - 6s 4ms/step - loss: 0.0109 - recall: 0.9965 - precision: 0.9966 - accuracy: 0.9965\n",
            "Epoch 10/10\n",
            "1500/1500 [==============================] - 7s 5ms/step - loss: 0.0105 - recall: 0.9965 - precision: 0.9967 - accuracy: 0.9965\n"
          ]
        }
      ],
      "source": [
        "holdout_stime = time.time()\n",
        "history = model.fit(x_train, y_train,\n",
        "                    use_multiprocessing=True,\n",
        "                    workers=6,\n",
        "                    epochs=10)\n",
        "\n",
        "holdout_etime = time.time()\n",
        "holdout_runtime = holdout_etime - holdout_stime"
      ]
    },
    {
      "cell_type": "markdown",
      "metadata": {
        "id": "iBGMUj4yP7Gl"
      },
      "source": [
        "### Evaluation:"
      ]
    },
    {
      "cell_type": "code",
      "execution_count": null,
      "metadata": {
        "id": "rEkwjOsyP5-n",
        "colab": {
          "base_uri": "https://localhost:8080/"
        },
        "outputId": "8bc4f095-d0a7-4456-dea2-014074bedd41"
      },
      "outputs": [
        {
          "output_type": "stream",
          "name": "stdout",
          "text": [
            "375/375 [==============================] - 1s 3ms/step - loss: 0.0405 - recall: 0.9918 - precision: 0.9920 - accuracy: 0.9918\n"
          ]
        }
      ],
      "source": [
        "cnn_eval_hist = model.evaluate(x_test, y_test)"
      ]
    },
    {
      "cell_type": "code",
      "source": [
        "print(f'Training time: {holdout_runtime} seconds')\n",
        "cnn_eval_accuracy = cnn_eval_hist[3]\n",
        "cnn_eval_precision = cnn_eval_hist[2]\n",
        "cnn_eval_recall = cnn_eval_hist[1]\n",
        "print(f'accuracy is:{cnn_eval_accuracy} \\nrecall is:{cnn_eval_recall} \\nprecision is:{cnn_eval_precision}')\n",
        "f1_score_test = 2 * (cnn_eval_precision * cnn_eval_recall) / (cnn_eval_precision +cnn_eval_recall)\n",
        "print(f'f1 score is: {f1_score_test}')"
      ],
      "metadata": {
        "id": "V5P6PWtMGuys",
        "colab": {
          "base_uri": "https://localhost:8080/"
        },
        "outputId": "b4d90b10-dccc-4564-d02e-f9d613a2eb29"
      },
      "execution_count": null,
      "outputs": [
        {
          "output_type": "stream",
          "name": "stdout",
          "text": [
            "Training time: 83.87016534805298 seconds\n",
            "accuracy is:0.9917500019073486 \n",
            "recall is:0.9917500019073486 \n",
            "precision is:0.991998016834259\n",
            "f1 score is: 0.9918739938669688\n"
          ]
        }
      ]
    },
    {
      "cell_type": "code",
      "execution_count": null,
      "metadata": {
        "id": "OuCiZgnLlJ4W"
      },
      "outputs": [],
      "source": [
        "model.save('PersianHandwritten.h5')"
      ]
    },
    {
      "cell_type": "markdown",
      "metadata": {
        "id": "fRwddBDIQKA1"
      },
      "source": [
        "## Cross K Fold Validation (K=3)"
      ]
    },
    {
      "cell_type": "code",
      "execution_count": null,
      "metadata": {
        "id": "VEZBf-tuQNX0",
        "colab": {
          "base_uri": "https://localhost:8080/"
        },
        "outputId": "6c467b0d-c881-42bd-c837-8e37d62511a4"
      },
      "outputs": [
        {
          "output_type": "stream",
          "name": "stdout",
          "text": [
            "Epoch 1/10\n",
            "1250/1250 [==============================] - 6s 5ms/step - loss: 0.0095 - recall: 0.9972 - precision: 0.9973 - accuracy: 0.9973\n",
            "Epoch 2/10\n",
            "1250/1250 [==============================] - 5s 4ms/step - loss: 0.0085 - recall: 0.9974 - precision: 0.9974 - accuracy: 0.9974\n",
            "Epoch 3/10\n",
            "1250/1250 [==============================] - 6s 5ms/step - loss: 0.0091 - recall: 0.9974 - precision: 0.9976 - accuracy: 0.9975\n",
            "Epoch 4/10\n",
            "1250/1250 [==============================] - 5s 4ms/step - loss: 0.0094 - recall: 0.9979 - precision: 0.9979 - accuracy: 0.9979\n",
            "Epoch 5/10\n",
            "1250/1250 [==============================] - 5s 4ms/step - loss: 0.0065 - recall: 0.9981 - precision: 0.9982 - accuracy: 0.9981\n",
            "Epoch 6/10\n",
            "1250/1250 [==============================] - 6s 5ms/step - loss: 0.0075 - recall: 0.9978 - precision: 0.9978 - accuracy: 0.9978\n",
            "Epoch 7/10\n",
            "1250/1250 [==============================] - 5s 4ms/step - loss: 0.0063 - recall: 0.9983 - precision: 0.9983 - accuracy: 0.9983\n",
            "Epoch 8/10\n",
            "1250/1250 [==============================] - 6s 5ms/step - loss: 0.0095 - recall: 0.9977 - precision: 0.9977 - accuracy: 0.9977\n",
            "Epoch 9/10\n",
            "1250/1250 [==============================] - 5s 4ms/step - loss: 0.0046 - recall: 0.9984 - precision: 0.9985 - accuracy: 0.9985\n",
            "Epoch 10/10\n",
            "1250/1250 [==============================] - 6s 5ms/step - loss: 0.0085 - recall: 0.9980 - precision: 0.9980 - accuracy: 0.9980\n",
            "625/625 [==============================] - 2s 3ms/step - loss: 0.0255 - recall: 0.9959 - precision: 0.9959 - accuracy: 0.9959\n",
            "Model evaluation  [0.025539537891745567, 0.9958500266075134, 0.9958997964859009, 0.9958500266075134]\n",
            "Epoch 1/10\n",
            "1250/1250 [==============================] - 5s 4ms/step - loss: 0.0200 - recall: 0.9954 - precision: 0.9957 - accuracy: 0.9955\n",
            "Epoch 2/10\n",
            "1250/1250 [==============================] - 6s 5ms/step - loss: 0.0099 - recall: 0.9973 - precision: 0.9976 - accuracy: 0.9974\n",
            "Epoch 3/10\n",
            "1250/1250 [==============================] - 5s 4ms/step - loss: 0.0091 - recall: 0.9973 - precision: 0.9973 - accuracy: 0.9973\n",
            "Epoch 4/10\n",
            "1250/1250 [==============================] - 5s 4ms/step - loss: 0.0104 - recall: 0.9973 - precision: 0.9975 - accuracy: 0.9974\n",
            "Epoch 5/10\n",
            "1250/1250 [==============================] - 5s 4ms/step - loss: 0.0080 - recall: 0.9979 - precision: 0.9979 - accuracy: 0.9979\n",
            "Epoch 6/10\n",
            "1250/1250 [==============================] - 5s 4ms/step - loss: 0.0069 - recall: 0.9979 - precision: 0.9980 - accuracy: 0.9980\n",
            "Epoch 7/10\n",
            "1250/1250 [==============================] - 6s 5ms/step - loss: 0.0071 - recall: 0.9978 - precision: 0.9979 - accuracy: 0.9979\n",
            "Epoch 8/10\n",
            "1250/1250 [==============================] - 5s 4ms/step - loss: 0.0077 - recall: 0.9980 - precision: 0.9980 - accuracy: 0.9980\n",
            "Epoch 9/10\n",
            "1250/1250 [==============================] - 6s 5ms/step - loss: 0.0062 - recall: 0.9985 - precision: 0.9986 - accuracy: 0.9985\n",
            "Epoch 10/10\n",
            "1250/1250 [==============================] - 5s 4ms/step - loss: 0.0088 - recall: 0.9977 - precision: 0.9977 - accuracy: 0.9977\n",
            "625/625 [==============================] - 2s 3ms/step - loss: 0.0067 - recall: 0.9988 - precision: 0.9988 - accuracy: 0.9988\n",
            "Model evaluation  [0.006730568129569292, 0.9987999796867371, 0.9987999796867371, 0.9987999796867371]\n",
            "Epoch 1/10\n",
            "1250/1250 [==============================] - 6s 5ms/step - loss: 0.0137 - recall: 0.9968 - precision: 0.9969 - accuracy: 0.9969\n",
            "Epoch 2/10\n",
            "1250/1250 [==============================] - 5s 4ms/step - loss: 0.0096 - recall: 0.9977 - precision: 0.9977 - accuracy: 0.9977\n",
            "Epoch 3/10\n",
            "1250/1250 [==============================] - 6s 5ms/step - loss: 0.0070 - recall: 0.9981 - precision: 0.9982 - accuracy: 0.9982\n",
            "Epoch 4/10\n",
            "1250/1250 [==============================] - 5s 4ms/step - loss: 0.0078 - recall: 0.9981 - precision: 0.9981 - accuracy: 0.9981\n",
            "Epoch 5/10\n",
            "1250/1250 [==============================] - 5s 4ms/step - loss: 0.0034 - recall: 0.9990 - precision: 0.9990 - accuracy: 0.9990\n",
            "Epoch 6/10\n",
            "1250/1250 [==============================] - 5s 4ms/step - loss: 0.0115 - recall: 0.9977 - precision: 0.9977 - accuracy: 0.9977\n",
            "Epoch 7/10\n",
            "1250/1250 [==============================] - 5s 4ms/step - loss: 0.0078 - recall: 0.9983 - precision: 0.9983 - accuracy: 0.9984\n",
            "Epoch 8/10\n",
            "1250/1250 [==============================] - 6s 5ms/step - loss: 0.0078 - recall: 0.9985 - precision: 0.9985 - accuracy: 0.9985\n",
            "Epoch 9/10\n",
            "1250/1250 [==============================] - 5s 4ms/step - loss: 0.0065 - recall: 0.9987 - precision: 0.9988 - accuracy: 0.9988\n",
            "Epoch 10/10\n",
            "1250/1250 [==============================] - 6s 5ms/step - loss: 0.0058 - recall: 0.9985 - precision: 0.9986 - accuracy: 0.9986\n",
            "625/625 [==============================] - 2s 3ms/step - loss: 0.0094 - recall: 0.9985 - precision: 0.9985 - accuracy: 0.9985\n",
            "Model evaluation  [0.009377207607030869, 0.9984999895095825, 0.9984999895095825, 0.9984999895095825]\n"
          ]
        }
      ],
      "source": [
        "training_times = list()\n",
        "n_split=3\n",
        "eval_histories = list()\n",
        "stime = time.time()\n",
        "for train_index, test_index in KFold(n_split).split(X):\n",
        "  x_train, x_test = X[train_index],X[test_index]\n",
        "  y_train, y_test = Y[train_index],Y[test_index]\n",
        "  y_train = to_categorical(y_train)\n",
        "  y_test = to_categorical(y_test)\n",
        "\n",
        "  fold_stime = time.time()\n",
        "\n",
        "  history = model.fit(x_train, y_train,\n",
        "                    use_multiprocessing=True,\n",
        "                    workers=6,\n",
        "                    epochs=10)\n",
        "  fold_etime = time.time()\n",
        "  eval_hist = model.evaluate(x_test, y_test)\n",
        "  eval_histories.append(eval_hist)\n",
        "  print('Model evaluation ',eval_hist)\n",
        "\n",
        "  fold_runtime = fold_etime - fold_stime\n",
        "  training_times.append(fold_runtime)\n",
        "\n",
        "etime = time.time()\n",
        "thorough_runtime = etime - stime"
      ]
    },
    {
      "cell_type": "markdown",
      "source": [
        "### Evaluation:"
      ],
      "metadata": {
        "id": "OvqoQbfGgGFO"
      }
    },
    {
      "cell_type": "code",
      "execution_count": null,
      "metadata": {
        "id": "kAuf5f3fRpJh",
        "colab": {
          "base_uri": "https://localhost:8080/"
        },
        "outputId": "b8f83512-0c4d-4d99-83d2-b22ae838f22d"
      },
      "outputs": [
        {
          "output_type": "stream",
          "name": "stdout",
          "text": [
            "The average of precisions is: 0.9977166652679443\n",
            "The average of recalls is: 0.9977332552274069\n",
            "Cross validation f1_score is: 0.9977249601787119\n"
          ]
        }
      ],
      "source": [
        "ord_nums = ['first', 'second', 'third']\n",
        "sum_precision = sum_recall = 0\n",
        "for eval_hist in eval_histories:\n",
        "  sum_recall += eval_hist[2]\n",
        "  sum_precision += eval_hist[3]\n",
        "\n",
        "recall_ave = sum_recall / n_split\n",
        "precision_ave = sum_precision / n_split\n",
        "f1_score_ave = 2 * (precision_ave * recall_ave) / (precision_ave + recall_ave)\n",
        "print(f'The average of precisions is: {precision_ave}')\n",
        "print(f'The average of recalls is: {recall_ave}')\n",
        "print(f'Cross validation f1_score is: {f1_score_ave}')"
      ]
    },
    {
      "cell_type": "code",
      "execution_count": null,
      "metadata": {
        "id": "NIqi9u3aU6A7",
        "colab": {
          "base_uri": "https://localhost:8080/"
        },
        "outputId": "8cc42c13-21e2-40cb-8fae-ffbb60fd91ca"
      },
      "outputs": [
        {
          "output_type": "stream",
          "name": "stdout",
          "text": [
            "The first fold took 55.06460738182068 seconds.\n",
            "The second fold took 53.394662618637085 seconds.\n",
            "The third fold took 53.98071765899658 seconds.\n",
            "Process took 169.0479702949524 seconds to complete.\n"
          ]
        }
      ],
      "source": [
        "i = 0\n",
        "for time in training_times:\n",
        "  print(f'The {ord_nums[i]} fold took {time} seconds.')\n",
        "  i += 1\n",
        "\n",
        "print(f'Process took {thorough_runtime} seconds to complete.')"
      ]
    },
    {
      "cell_type": "markdown",
      "metadata": {
        "id": "pILDKjn7Ik_Z"
      },
      "source": [
        "## Comparing the CNN model with a SVM model, a KNN model and a Bayesian model based on accuracies:"
      ]
    },
    {
      "cell_type": "code",
      "source": [
        "x_train, y_train = X[12000:], Y[12000:]\n",
        "x_test, y_test = X[:12000], Y[:12000]"
      ],
      "metadata": {
        "id": "UnwO5B1xCXBu"
      },
      "execution_count": null,
      "outputs": []
    },
    {
      "cell_type": "code",
      "execution_count": null,
      "metadata": {
        "id": "oJgSil8FPvL6"
      },
      "outputs": [],
      "source": [
        "h, w, d = x_train.shape[1], x_train.shape[2], x_train.shape[3]\n",
        "x_train_reshaped = x_train.reshape(x_train.shape[0], h*w*d)"
      ]
    },
    {
      "cell_type": "code",
      "source": [
        "x_train_reshaped.shape"
      ],
      "metadata": {
        "id": "jzGQMJewCBYA",
        "colab": {
          "base_uri": "https://localhost:8080/"
        },
        "outputId": "6bcdfa38-3311-4a2d-a590-9583162a695e"
      },
      "execution_count": null,
      "outputs": [
        {
          "output_type": "execute_result",
          "data": {
            "text/plain": [
              "(48000, 784)"
            ]
          },
          "metadata": {},
          "execution_count": 19
        }
      ]
    },
    {
      "cell_type": "code",
      "execution_count": null,
      "metadata": {
        "id": "L9bEYCwMTnr7"
      },
      "outputs": [],
      "source": [
        "h, w, d = x_test.shape[1], x_test.shape[2], x_test.shape[3]\n",
        "x_test_reshaped = x_test.reshape(x_test.shape[0], h*w*d)"
      ]
    },
    {
      "cell_type": "code",
      "source": [
        "x_test_reshaped.shape"
      ],
      "metadata": {
        "id": "Ba5l-EfFCH8X",
        "colab": {
          "base_uri": "https://localhost:8080/"
        },
        "outputId": "3d7e96f6-4614-4aac-9998-00b4dc66ae89"
      },
      "execution_count": null,
      "outputs": [
        {
          "output_type": "execute_result",
          "data": {
            "text/plain": [
              "(12000, 784)"
            ]
          },
          "metadata": {},
          "execution_count": 21
        }
      ]
    },
    {
      "cell_type": "markdown",
      "source": [
        "### SVM"
      ],
      "metadata": {
        "id": "pgwJ_qKpGwI-"
      }
    },
    {
      "cell_type": "code",
      "execution_count": null,
      "metadata": {
        "id": "a_82ES32QaSG"
      },
      "outputs": [],
      "source": [
        "svm_clf = SVC().fit(x_train_reshaped, y_train)"
      ]
    },
    {
      "cell_type": "code",
      "source": [
        "svm_eval = svm_clf.score(x_test_reshaped, y_test)\n",
        "svm_eval"
      ],
      "metadata": {
        "id": "JREtHCCO-dgL",
        "colab": {
          "base_uri": "https://localhost:8080/"
        },
        "outputId": "feca1a8d-68af-459d-cb5f-995a18ca2f2f"
      },
      "execution_count": null,
      "outputs": [
        {
          "output_type": "execute_result",
          "data": {
            "text/plain": [
              "0.9860833333333333"
            ]
          },
          "metadata": {},
          "execution_count": 23
        }
      ]
    },
    {
      "cell_type": "markdown",
      "source": [
        "### KNN"
      ],
      "metadata": {
        "id": "xVBp9D1LGyFC"
      }
    },
    {
      "cell_type": "code",
      "source": [
        "neigh_clf = KNeighborsClassifier().fit(x_train_reshaped, y_train)"
      ],
      "metadata": {
        "id": "Y3lD3GhGGzDP"
      },
      "execution_count": null,
      "outputs": []
    },
    {
      "cell_type": "code",
      "source": [
        "knn_eval = neigh_clf.score(x_test_reshaped, y_test)\n",
        "knn_eval"
      ],
      "metadata": {
        "id": "ol5TU_J_HFg_",
        "colab": {
          "base_uri": "https://localhost:8080/"
        },
        "outputId": "9782c1d4-7b58-4338-ac0d-628a39fa593c"
      },
      "execution_count": null,
      "outputs": [
        {
          "output_type": "execute_result",
          "data": {
            "text/plain": [
              "0.9766666666666667"
            ]
          },
          "metadata": {},
          "execution_count": 25
        }
      ]
    },
    {
      "cell_type": "markdown",
      "source": [
        "### Bayesian Ridge"
      ],
      "metadata": {
        "id": "Y9oQjGJ1Kr18"
      }
    },
    {
      "cell_type": "code",
      "source": [
        "bayes_clf = BayesianRidge().fit(x_train_reshaped, y_train)"
      ],
      "metadata": {
        "id": "ab-HQTNzK61f"
      },
      "execution_count": null,
      "outputs": []
    },
    {
      "cell_type": "code",
      "source": [
        "bayes_eval = bayes_clf.score(x_test_reshaped, y_test)\n",
        "bayes_eval"
      ],
      "metadata": {
        "id": "9Tvs1UyVLKhT",
        "colab": {
          "base_uri": "https://localhost:8080/"
        },
        "outputId": "9a381d05-b297-4c1e-f0de-4d4d550ccb0d"
      },
      "execution_count": null,
      "outputs": [
        {
          "output_type": "execute_result",
          "data": {
            "text/plain": [
              "0.7258763813684341"
            ]
          },
          "metadata": {},
          "execution_count": 27
        }
      ]
    },
    {
      "cell_type": "markdown",
      "source": [
        "### Bar plot shows the difference between accuracies:"
      ],
      "metadata": {
        "id": "x41ZtbHwUrSX"
      }
    },
    {
      "cell_type": "code",
      "source": [
        "models = (\"CNN\", \"SVM\", \"KNN\", \"Bayesian\")\n",
        "accuracies = [cnn_eval_hist[3]*100, svm_eval*100, knn_eval*100, bayes_eval *100]\n",
        "\n",
        "x = np.arange(len(models))  # the label locations\n",
        "width = 0.15\n",
        "fig, ax = plt.subplots(layout='constrained')\n",
        "\n",
        "for i in range(3):\n",
        "    offset = width\n",
        "    rects = ax.bar(x + offset, accuracies, width, label=models)\n",
        "    ax.bar_label(rects)\n",
        "\n",
        "ax.set_ylabel('Accuracy')\n",
        "ax.set_title('Different Models Result')\n",
        "ax.set_xticks(x + width, models)\n",
        "ax.set_ylim(0, 110)\n",
        "\n",
        "plt.show()"
      ],
      "metadata": {
        "id": "hkbc_TZJ1Zwf",
        "colab": {
          "base_uri": "https://localhost:8080/",
          "height": 508
        },
        "outputId": "115aa9fe-e95f-4523-a8ca-13ec444cdb69"
      },
      "execution_count": null,
      "outputs": [
        {
          "output_type": "display_data",
          "data": {
            "text/plain": [
              "<Figure size 640x480 with 1 Axes>"
            ],
            "image/png": "[encoded data removed]"
          },
          "metadata": {}
        }
      ]
    },
    {
      "cell_type": "markdown",
      "source": [
        "### Testing the CNN model with my handwritten digits:"
      ],
      "metadata": {
        "id": "MfjD-OxCupPG"
      }
    },
    {
      "cell_type": "code",
      "source": [
        "!unzip /content/digits.zip"
      ],
      "metadata": {
        "id": "i2mbvJ290EkI",
        "colab": {
          "base_uri": "https://localhost:8080/"
        },
        "outputId": "ec16dba1-36ce-4449-f7af-28b70c381048"
      },
      "execution_count": null,
      "outputs": [
        {
          "output_type": "stream",
          "name": "stdout",
          "text": [
            "Archive:  /content/digits.zip\n",
            "  inflating: digits/0.png            \n",
            "  inflating: digits/1.png            \n",
            "  inflating: digits/2.png            \n",
            "  inflating: digits/3.png            \n",
            "  inflating: digits/4.png            \n",
            "  inflating: digits/5.png            \n",
            "  inflating: digits/6.png            \n",
            "  inflating: digits/7.png            \n",
            "  inflating: digits/8.png            \n",
            "  inflating: digits/9.png            \n"
          ]
        }
      ]
    },
    {
      "cell_type": "code",
      "source": [
        "image_number = 0\n",
        "while os.path.isfile(f\"/content/digits/{image_number}.png\"):\n",
        "  try:\n",
        "    img = cv2.imread(f\"/content/digits/{image_number}.png\")[:,:,0]\n",
        "    img = np.invert(np.array([img]))\n",
        "    prediction = model.predict(img)\n",
        "    print(f\"This digit is probably a {np.argmax(prediction)}\")\n",
        "    plt.imshow(img[0], cmap=plt.cm.binary)\n",
        "    plt.show()\n",
        "  except:\n",
        "    print(\"Error\")\n",
        "  finally:\n",
        "    image_number += 1"
      ],
      "metadata": {
        "id": "S_RNNImRUXwb",
        "colab": {
          "base_uri": "https://localhost:8080/",
          "height": 1000
        },
        "outputId": "2635b0ea-7503-4647-dd1f-d5ea74d5a8c9"
      },
      "execution_count": null,
      "outputs": [
        {
          "output_type": "stream",
          "name": "stdout",
          "text": [
            "1/1 [==============================] - 0s 211ms/step\n",
            "This digit is probably a 0\n"
          ]
        },
        {
          "output_type": "display_data",
          "data": {
            "text/plain": [
              "<Figure size 640x480 with 1 Axes>"
            ],
            "image/png": "[encoded data removed]"
          },
          "metadata": {}
        },
        {
          "output_type": "stream",
          "name": "stdout",
          "text": [
            "1/1 [==============================] - 0s 34ms/step\n",
            "This digit is probably a 1\n"
          ]
        },
        {
          "output_type": "display_data",
          "data": {
            "text/plain": [
              "<Figure size 640x480 with 1 Axes>"
            ],
            "image/png": "[encoded data removed]"
          },
          "metadata": {}
        },
        {
          "output_type": "stream",
          "name": "stdout",
          "text": [
            "1/1 [==============================] - 0s 29ms/step\n",
            "This digit is probably a 2\n"
          ]
        },
        {
          "output_type": "display_data",
          "data": {
            "text/plain": [
              "<Figure size 640x480 with 1 Axes>"
            ],
            "image/png": "[encoded data removed]"
          },
          "metadata": {}
        },
        {
          "output_type": "stream",
          "name": "stdout",
          "text": [
            "1/1 [==============================] - 0s 29ms/step\n",
            "This digit is probably a 3\n"
          ]
        },
        {
          "output_type": "display_data",
          "data": {
            "text/plain": [
              "<Figure size 640x480 with 1 Axes>"
            ],
            "image/png": "[encoded data removed]"
          },
          "metadata": {}
        },
        {
          "output_type": "stream",
          "name": "stdout",
          "text": [
            "1/1 [==============================] - 0s 28ms/step\n",
            "This digit is probably a 4\n"
          ]
        },
        {
          "output_type": "display_data",
          "data": {
            "text/plain": [
              "<Figure size 640x480 with 1 Axes>"
            ],
            "image/png": "[encoded data removed]"
          },
          "metadata": {}
        },
        {
          "output_type": "stream",
          "name": "stdout",
          "text": [
            "1/1 [==============================] - 0s 30ms/step\n",
            "This digit is probably a 5\n"
          ]
        },
        {
          "output_type": "display_data",
          "data": {
            "text/plain": [
              "<Figure size 640x480 with 1 Axes>"
            ],
            "image/png": "[encoded data removed]"
          },
          "metadata": {}
        },
        {
          "output_type": "stream",
          "name": "stdout",
          "text": [
            "1/1 [==============================] - 0s 27ms/step\n",
            "This digit is probably a 6\n"
          ]
        },
        {
          "output_type": "display_data",
          "data": {
            "text/plain": [
              "<Figure size 640x480 with 1 Axes>"
            ],
            "image/png": "[encoded data removed]"
          },
          "metadata": {}
        },
        {
          "output_type": "stream",
          "name": "stdout",
          "text": [
            "1/1 [==============================] - 0s 18ms/step\n",
            "This digit is probably a 7\n"
          ]
        },
        {
          "output_type": "display_data",
          "data": {
            "text/plain": [
              "<Figure size 640x480 with 1 Axes>"
            ],
            "image/png": "[encoded data removed]"
          },
          "metadata": {}
        },
        {
          "output_type": "stream",
          "name": "stdout",
          "text": [
            "1/1 [==============================] - 0s 19ms/step\n",
            "This digit is probably a 8\n"
          ]
        },
        {
          "output_type": "display_data",
          "data": {
            "text/plain": [
              "<Figure size 640x480 with 1 Axes>"
            ],
            "image/png": "[encoded data removed]"
          },
          "metadata": {}
        },
        {
          "output_type": "stream",
          "name": "stdout",
          "text": [
            "1/1 [==============================] - 0s 18ms/step\n",
            "This digit is probably a 9\n"
          ]
        },
        {
          "output_type": "display_data",
          "data": {
            "text/plain": [
              "<Figure size 640x480 with 1 Axes>"
            ],
            "image/png": "[encoded data removed]"
          },
          "metadata": {}
        }
      ]
    },
    {
      "cell_type": "code",
      "source": [],
      "metadata": {
        "id": "WpBdV6kdHnXf"
      },
      "execution_count": null,
      "outputs": []
    }
  ],
  "metadata": {
    "colab": {
      "provenance": [],
      "gpuType": "T4"
    },
    "kernelspec": {
      "display_name": "Python 3",
      "name": "python3"
    },
    "language_info": {
      "name": "python"
    },
    "accelerator": "GPU"
  },
  "nbformat": 4,
  "nbformat_minor": 0
}